{
 "cells": [
  {
   "cell_type": "markdown",
   "metadata": {},
   "source": [
    "# CAPM - Capital Asset Pricing Model \n",
    "\n",
    "In this project, we are building a CAPM model for Apple using linear regression, then further introducing what a perfectly correlating stock to the market reveals in relation to CAPM.\n",
    "____"
   ]
  },
  {
   "cell_type": "markdown",
   "metadata": {},
   "source": [
    "## Imports"
   ]
  },
  {
   "cell_type": "code",
   "execution_count": 2,
   "metadata": {},
   "outputs": [],
   "source": [
    "from scipy import stats\n",
    "import pandas as pd\n",
    "import numpy as np\n",
    "import pandas_datareader as web"
   ]
  },
  {
   "cell_type": "code",
   "execution_count": 3,
   "metadata": {},
   "outputs": [],
   "source": [
    "import matplotlib.pyplot as plt\n",
    "%matplotlib inline"
   ]
  },
  {
   "cell_type": "markdown",
   "metadata": {},
   "source": [
    "____\n",
    "## API Selection\n",
    "\n",
    "- The API we've chosen for the assignment one was was provided by Yahoo https://www.yahoofinanceapi.com\n",
    "\n",
    "- API's are freely available but be cautious with yahoo as at times it can be deprecated."
   ]
  },
  {
   "cell_type": "markdown",
   "metadata": {},
   "source": [
    "____\n",
    "## Get the Data\n",
    "\n",
    "#### Collecting Raw Data:\n",
    "\n",
    "- The below code uses Yahoo Finances API to get The SPDR S&P 500 trust (SPY ETF is an exchange-traded fund which trades on the NYSE Arca under the symbol. It is designed to track the S&P 500 stock market index. This fund is the largest ETF in the world.\n",
    "\n",
    "- Further retrieve labeled financial data for Apple Inc using Yahoo Finances API.\n",
    "\n",
    "- I've set each Apple and the SPDR S&P 500 to be a separate dataframe, with the variable being the aapl and spy_etf\n",
    "\n",
    "\n",
    "The below code uses the API to retrieve the stocks data of the following companies between Jan 4th 2010 to July 18th 2017.\n",
    "\n",
    "* Apple\n",
    "* SPY ETF"
   ]
  },
  {
   "cell_type": "code",
   "execution_count": 4,
   "metadata": {},
   "outputs": [],
   "source": [
    "#Time variable to get the Raw data from the API \n",
    "start = pd.to_datetime('2010-01-04')\n",
    "end = pd.to_datetime('2017-07-18')"
   ]
  },
  {
   "cell_type": "code",
   "execution_count": 5,
   "metadata": {},
   "outputs": [],
   "source": [
    "spy_etf = web.DataReader('SPY','yahoo',start,end)\n",
    "aapl = web.DataReader('aapl','yahoo',start,end)"
   ]
  },
  {
   "cell_type": "code",
   "execution_count": 6,
   "metadata": {},
   "outputs": [
    {
     "data": {
      "text/html": [
       "<div>\n",
       "<style scoped>\n",
       "    .dataframe tbody tr th:only-of-type {\n",
       "        vertical-align: middle;\n",
       "    }\n",
       "\n",
       "    .dataframe tbody tr th {\n",
       "        vertical-align: top;\n",
       "    }\n",
       "\n",
       "    .dataframe thead th {\n",
       "        text-align: right;\n",
       "    }\n",
       "</style>\n",
       "<table border=\"1\" class=\"dataframe\">\n",
       "  <thead>\n",
       "    <tr style=\"text-align: right;\">\n",
       "      <th></th>\n",
       "      <th>High</th>\n",
       "      <th>Low</th>\n",
       "      <th>Open</th>\n",
       "      <th>Close</th>\n",
       "      <th>Volume</th>\n",
       "      <th>Adj Close</th>\n",
       "    </tr>\n",
       "    <tr>\n",
       "      <th>Date</th>\n",
       "      <th></th>\n",
       "      <th></th>\n",
       "      <th></th>\n",
       "      <th></th>\n",
       "      <th></th>\n",
       "      <th></th>\n",
       "    </tr>\n",
       "  </thead>\n",
       "  <tbody>\n",
       "    <tr>\n",
       "      <th>2010-01-04</th>\n",
       "      <td>113.389999</td>\n",
       "      <td>111.510002</td>\n",
       "      <td>112.370003</td>\n",
       "      <td>113.330002</td>\n",
       "      <td>118944600.0</td>\n",
       "      <td>90.205025</td>\n",
       "    </tr>\n",
       "    <tr>\n",
       "      <th>2010-01-05</th>\n",
       "      <td>113.680000</td>\n",
       "      <td>112.849998</td>\n",
       "      <td>113.260002</td>\n",
       "      <td>113.629997</td>\n",
       "      <td>111579900.0</td>\n",
       "      <td>90.443817</td>\n",
       "    </tr>\n",
       "    <tr>\n",
       "      <th>2010-01-06</th>\n",
       "      <td>113.989998</td>\n",
       "      <td>113.430000</td>\n",
       "      <td>113.519997</td>\n",
       "      <td>113.709999</td>\n",
       "      <td>116074400.0</td>\n",
       "      <td>90.507492</td>\n",
       "    </tr>\n",
       "    <tr>\n",
       "      <th>2010-01-07</th>\n",
       "      <td>114.330002</td>\n",
       "      <td>113.180000</td>\n",
       "      <td>113.500000</td>\n",
       "      <td>114.190002</td>\n",
       "      <td>131091100.0</td>\n",
       "      <td>90.889519</td>\n",
       "    </tr>\n",
       "    <tr>\n",
       "      <th>2010-01-08</th>\n",
       "      <td>114.620003</td>\n",
       "      <td>113.660004</td>\n",
       "      <td>113.889999</td>\n",
       "      <td>114.570000</td>\n",
       "      <td>126402800.0</td>\n",
       "      <td>91.191971</td>\n",
       "    </tr>\n",
       "  </tbody>\n",
       "</table>\n",
       "</div>"
      ],
      "text/plain": [
       "                  High         Low        Open       Close       Volume  \\\n",
       "Date                                                                      \n",
       "2010-01-04  113.389999  111.510002  112.370003  113.330002  118944600.0   \n",
       "2010-01-05  113.680000  112.849998  113.260002  113.629997  111579900.0   \n",
       "2010-01-06  113.989998  113.430000  113.519997  113.709999  116074400.0   \n",
       "2010-01-07  114.330002  113.180000  113.500000  114.190002  131091100.0   \n",
       "2010-01-08  114.620003  113.660004  113.889999  114.570000  126402800.0   \n",
       "\n",
       "            Adj Close  \n",
       "Date                   \n",
       "2010-01-04  90.205025  \n",
       "2010-01-05  90.443817  \n",
       "2010-01-06  90.507492  \n",
       "2010-01-07  90.889519  \n",
       "2010-01-08  91.191971  "
      ]
     },
     "execution_count": 6,
     "metadata": {},
     "output_type": "execute_result"
    }
   ],
   "source": [
    "#Preview of the SPY ETF dataset (First Five Records)\n",
    "spy_etf.head()"
   ]
  },
  {
   "cell_type": "code",
   "execution_count": 7,
   "metadata": {},
   "outputs": [
    {
     "data": {
      "text/html": [
       "<div>\n",
       "<style scoped>\n",
       "    .dataframe tbody tr th:only-of-type {\n",
       "        vertical-align: middle;\n",
       "    }\n",
       "\n",
       "    .dataframe tbody tr th {\n",
       "        vertical-align: top;\n",
       "    }\n",
       "\n",
       "    .dataframe thead th {\n",
       "        text-align: right;\n",
       "    }\n",
       "</style>\n",
       "<table border=\"1\" class=\"dataframe\">\n",
       "  <thead>\n",
       "    <tr style=\"text-align: right;\">\n",
       "      <th></th>\n",
       "      <th>High</th>\n",
       "      <th>Low</th>\n",
       "      <th>Open</th>\n",
       "      <th>Close</th>\n",
       "      <th>Volume</th>\n",
       "      <th>Adj Close</th>\n",
       "    </tr>\n",
       "    <tr>\n",
       "      <th>Date</th>\n",
       "      <th></th>\n",
       "      <th></th>\n",
       "      <th></th>\n",
       "      <th></th>\n",
       "      <th></th>\n",
       "      <th></th>\n",
       "    </tr>\n",
       "  </thead>\n",
       "  <tbody>\n",
       "    <tr>\n",
       "      <th>2010-01-04</th>\n",
       "      <td>7.660714</td>\n",
       "      <td>7.585000</td>\n",
       "      <td>7.622500</td>\n",
       "      <td>7.643214</td>\n",
       "      <td>493729600.0</td>\n",
       "      <td>6.562589</td>\n",
       "    </tr>\n",
       "    <tr>\n",
       "      <th>2010-01-05</th>\n",
       "      <td>7.699643</td>\n",
       "      <td>7.616071</td>\n",
       "      <td>7.664286</td>\n",
       "      <td>7.656429</td>\n",
       "      <td>601904800.0</td>\n",
       "      <td>6.573936</td>\n",
       "    </tr>\n",
       "    <tr>\n",
       "      <th>2010-01-06</th>\n",
       "      <td>7.686786</td>\n",
       "      <td>7.526786</td>\n",
       "      <td>7.656429</td>\n",
       "      <td>7.534643</td>\n",
       "      <td>552160000.0</td>\n",
       "      <td>6.469367</td>\n",
       "    </tr>\n",
       "    <tr>\n",
       "      <th>2010-01-07</th>\n",
       "      <td>7.571429</td>\n",
       "      <td>7.466071</td>\n",
       "      <td>7.562500</td>\n",
       "      <td>7.520714</td>\n",
       "      <td>477131200.0</td>\n",
       "      <td>6.457409</td>\n",
       "    </tr>\n",
       "    <tr>\n",
       "      <th>2010-01-08</th>\n",
       "      <td>7.571429</td>\n",
       "      <td>7.466429</td>\n",
       "      <td>7.510714</td>\n",
       "      <td>7.570714</td>\n",
       "      <td>447610800.0</td>\n",
       "      <td>6.500340</td>\n",
       "    </tr>\n",
       "  </tbody>\n",
       "</table>\n",
       "</div>"
      ],
      "text/plain": [
       "                High       Low      Open     Close       Volume  Adj Close\n",
       "Date                                                                      \n",
       "2010-01-04  7.660714  7.585000  7.622500  7.643214  493729600.0   6.562589\n",
       "2010-01-05  7.699643  7.616071  7.664286  7.656429  601904800.0   6.573936\n",
       "2010-01-06  7.686786  7.526786  7.656429  7.534643  552160000.0   6.469367\n",
       "2010-01-07  7.571429  7.466071  7.562500  7.520714  477131200.0   6.457409\n",
       "2010-01-08  7.571429  7.466429  7.510714  7.570714  447610800.0   6.500340"
      ]
     },
     "execution_count": 7,
     "metadata": {},
     "output_type": "execute_result"
    }
   ],
   "source": [
    "#Preview of the Apple dataset (First Five Records)\n",
    "aapl.head()"
   ]
  },
  {
   "cell_type": "markdown",
   "metadata": {},
   "source": [
    "#### Data check\n",
    "\n",
    "- Looking for missing data to see if processing is needed.\n",
    "- Checking if any of the numeric data is a string."
   ]
  },
  {
   "cell_type": "code",
   "execution_count": 8,
   "metadata": {},
   "outputs": [
    {
     "data": {
      "text/plain": [
       "High         0\n",
       "Low          0\n",
       "Open         0\n",
       "Close        0\n",
       "Volume       0\n",
       "Adj Close    0\n",
       "dtype: int64"
      ]
     },
     "execution_count": 8,
     "metadata": {},
     "output_type": "execute_result"
    }
   ],
   "source": [
    "#Calculates the sum of all the null values in all the fields(columns)\n",
    "aapl.isnull().sum()"
   ]
  },
  {
   "cell_type": "code",
   "execution_count": 9,
   "metadata": {},
   "outputs": [
    {
     "data": {
      "text/plain": [
       "float64    6\n",
       "dtype: int64"
      ]
     },
     "execution_count": 9,
     "metadata": {},
     "output_type": "execute_result"
    }
   ],
   "source": [
    "#Further check if any of the numeric data is not string\n",
    "aapl.dtypes.value_counts()"
   ]
  },
  {
   "cell_type": "code",
   "execution_count": 10,
   "metadata": {},
   "outputs": [
    {
     "data": {
      "text/plain": [
       "High         0\n",
       "Low          0\n",
       "Open         0\n",
       "Close        0\n",
       "Volume       0\n",
       "Adj Close    0\n",
       "dtype: int64"
      ]
     },
     "execution_count": 10,
     "metadata": {},
     "output_type": "execute_result"
    }
   ],
   "source": [
    "#Calculates the sum of all the null values in all the fields(columns)\n",
    "spy_etf.isnull().sum()"
   ]
  },
  {
   "cell_type": "code",
   "execution_count": 11,
   "metadata": {},
   "outputs": [
    {
     "data": {
      "text/plain": [
       "float64    6\n",
       "dtype: int64"
      ]
     },
     "execution_count": 11,
     "metadata": {},
     "output_type": "execute_result"
    }
   ],
   "source": [
    "#Further check if any of the numeric data is not string\n",
    "spy_etf.dtypes.value_counts()"
   ]
  },
  {
   "cell_type": "markdown",
   "metadata": {},
   "source": [
    "#### Pre-Processing Completed\n",
    "\n",
    "- We can see that there is no Null value in the data, and all stock values are not strings.\n",
    "\n",
    "- This means there are no values in the dataset such as \"Not Available\" or \"NA\", etc.\n",
    "\n",
    "- Both of these are highly indicative that all values are present."
   ]
  },
  {
   "cell_type": "markdown",
   "metadata": {},
   "source": [
    "## Explorative Data Analysis\n",
    "\n",
    "In the following, we will be focusing on the closing price to understand the exact cash positions of the stocks end of day."
   ]
  },
  {
   "cell_type": "code",
   "execution_count": 32,
   "metadata": {},
   "outputs": [
    {
     "data": {
      "image/png": "[encoded data removed]",
      "text/plain": [
       "<Figure size 720x576 with 1 Axes>"
      ]
     },
     "metadata": {
      "needs_background": "light"
     },
     "output_type": "display_data"
    }
   ],
   "source": [
    "#Plots the closing prices of both stock in a line graph for comparisons\n",
    "aapl['Close'].plot(label='AAPL',figsize=(10,8))\n",
    "spy_etf['Close'].plot(label='SPY Index')\n",
    "plt.legend();"
   ]
  },
  {
   "cell_type": "markdown",
   "metadata": {},
   "source": [
    "#### Interpretation"
   ]
  },
  {
   "cell_type": "markdown",
   "metadata": {},
   "source": [
    "- The market index value per share, being SPY_ETF exceeds the value of individual Apple stock within the given time period."
   ]
  },
  {
   "cell_type": "markdown",
   "metadata": {},
   "source": [
    "### Cumulative Returns\n",
    "\n",
    "- The cumulative return is the total change in the investment price over a set time—an aggregate return, not an annualized one. Reinvesting the dividends or capital gains of an investment impacts its cumulative return."
   ]
  },
  {
   "cell_type": "code",
   "execution_count": 13,
   "metadata": {},
   "outputs": [],
   "source": [
    "#Creates a new dataframe for appl and spy_etf by dividing the t+n Close price by t=0 Close price\n",
    "aapl['Cumulative'] = aapl['Close']/aapl['Close'].iloc[0]\n",
    "spy_etf['Cumulative'] = spy_etf['Close']/spy_etf['Close'].iloc[0]"
   ]
  },
  {
   "cell_type": "code",
   "execution_count": 14,
   "metadata": {},
   "outputs": [
    {
     "data": {
      "text/plain": [
       "Date\n",
       "2010-01-04    1.000000\n",
       "2010-01-05    1.001729\n",
       "2010-01-06    0.985795\n",
       "2010-01-07    0.983973\n",
       "2010-01-08    0.990514\n",
       "Name: Cumulative, dtype: float64"
      ]
     },
     "execution_count": 14,
     "metadata": {},
     "output_type": "execute_result"
    }
   ],
   "source": [
    "#Preview of the Apple cumulative dataset (First Five Records)\n",
    "aapl['Cumulative'].head()"
   ]
  },
  {
   "cell_type": "code",
   "execution_count": 15,
   "metadata": {},
   "outputs": [
    {
     "data": {
      "image/png": "[encoded data removed]",
      "text/plain": [
       "<Figure size 720x576 with 1 Axes>"
      ]
     },
     "metadata": {
      "needs_background": "light"
     },
     "output_type": "display_data"
    }
   ],
   "source": [
    "#Plots the clsing prices of both stock in a line graph for comparisons\n",
    "aapl['Cumulative'].plot(label='AAPL',figsize=(10,8))\n",
    "spy_etf['Cumulative'].plot(label='SPY Index')\n",
    "plt.legend()\n",
    "plt.title('Cumulative Return');"
   ]
  },
  {
   "cell_type": "markdown",
   "metadata": {},
   "source": [
    "#### Interpretation\n",
    "\n",
    "- On a cumulative returns basis Apples returns exceed the market."
   ]
  },
  {
   "cell_type": "markdown",
   "metadata": {},
   "source": [
    "### Daily Returns\n",
    "\n",
    "Created a new empty DataFrame called returns. This dataframe contains the returns for each bank's stock. returns are typically defined by:\n",
    "\n",
    "$$r_t = \\frac{p_t - p_{t-1}}{p_{t-1}} = \\frac{p_t}{p_{t-1}} - 1$$"
   ]
  },
  {
   "cell_type": "markdown",
   "metadata": {},
   "source": [
    "We use pandas pct_change() method on the Close column to create a column representing this return value. First row will have null values due to the above formula."
   ]
  },
  {
   "cell_type": "code",
   "execution_count": 16,
   "metadata": {},
   "outputs": [],
   "source": [
    "#Using pct_change(1) to create daily returns.\n",
    "aapl['Daily Return'] = aapl['Close'].pct_change(1)\n",
    "spy_etf['Daily Return'] = spy_etf['Close'].pct_change(1)"
   ]
  },
  {
   "cell_type": "code",
   "execution_count": 17,
   "metadata": {},
   "outputs": [
    {
     "data": {
      "text/plain": [
       "Date\n",
       "2010-01-04         NaN\n",
       "2010-01-05    0.001729\n",
       "2010-01-06   -0.015906\n",
       "2010-01-07   -0.001849\n",
       "2010-01-08    0.006648\n",
       "Name: Daily Return, dtype: float64"
      ]
     },
     "execution_count": 17,
     "metadata": {},
     "output_type": "execute_result"
    }
   ],
   "source": [
    "#Preview of daily return data set.\n",
    "#Note that the 1st year is NaN, this is due to the faily return formula.\n",
    "aapl['Daily Return'].head()"
   ]
  },
  {
   "cell_type": "markdown",
   "metadata": {},
   "source": [
    "## CAPM model\n",
    "\n",
    "The Capital Asset Pricing Model (CAPM) describes the relationship between systematic risk and expected return for assets, particularly stocks. CAPM is widely used throughout finance for pricing risky securities and generating expected returns for assets given the risk of those assets and cost of capital.\n",
    "\t  \n",
    "      \n",
    "                                       ER =Rf +β(ERm − Rf)\n",
    "\n",
    "\n",
    "where:\n",
    "\n",
    "ER = expected return of investment\n",
    "\n",
    "Rf = risk-free rate\n",
    "\n",
    "β = beta of the investment\n",
    "\n",
    "(ERm − Rf) = market risk premium\t"
   ]
  },
  {
   "cell_type": "code",
   "execution_count": 60,
   "metadata": {},
   "outputs": [],
   "source": [
    "#Linear regression using Scikit\n",
    "#iloc[:1] as loc[0] = n/a due to daily reutrn formula\n",
    "beta,alpha,r_value,p_value,std_err = stats.linregress(spy_etf['Daily Return'].iloc[1:],aapl['Daily Return'].iloc[1:])"
   ]
  },
  {
   "cell_type": "code",
   "execution_count": 61,
   "metadata": {
    "scrolled": true
   },
   "outputs": [
    {
     "data": {
      "text/plain": [
       "0.9479229050786183"
      ]
     },
     "execution_count": 61,
     "metadata": {},
     "output_type": "execute_result"
    }
   ],
   "source": [
    "# measures a stock's relative volatility–that is, it shows how much the price of a particular stock jumps\n",
    "# up and down compared with how much the entire stock market jumps up and down. \n",
    "#If a share price moves exactly in line with the market, then the stock's beta is 1\n",
    "beta"
   ]
  },
  {
   "cell_type": "code",
   "execution_count": 62,
   "metadata": {},
   "outputs": [
    {
     "data": {
      "text/plain": [
       "0.0005404570492612061"
      ]
     },
     "execution_count": 62,
     "metadata": {},
     "output_type": "execute_result"
    }
   ],
   "source": [
    "# Alpha (α) is a term used in investing to describe an investment strategy's ability to beat the market. \n",
    "# Alpha is thus also often referred to as “excess return” or “abnormal rate of return,”.\n",
    "\n",
    "alpha"
   ]
  },
  {
   "cell_type": "code",
   "execution_count": 63,
   "metadata": {},
   "outputs": [
    {
     "data": {
      "text/plain": [
       "0.5556582033773629"
      ]
     },
     "execution_count": 63,
     "metadata": {},
     "output_type": "execute_result"
    }
   ],
   "source": [
    "# correlation\n",
    "r_value"
   ]
  },
  {
   "cell_type": "code",
   "execution_count": 64,
   "metadata": {},
   "outputs": [
    {
     "data": {
      "image/png": "[encoded data removed]",
      "text/plain": [
       "<Figure size 432x288 with 1 Axes>"
      ]
     },
     "metadata": {
      "needs_background": "light"
     },
     "output_type": "display_data"
    }
   ],
   "source": [
    "# maps apples returns again spy_etf\n",
    "plt.scatter(aapl['Daily Return'],spy_etf['Daily Return'],alpha=0.3)\n",
    "plt.xlabel('Apple returns')\n",
    "plt.ylabel('Market returns');"
   ]
  },
  {
   "cell_type": "markdown",
   "metadata": {},
   "source": [
    "### Interperation\n",
    "\n",
    "- information"
   ]
  },
  {
   "cell_type": "markdown",
   "metadata": {},
   "source": [
    "## What if our stock was completely related to SP500?\n",
    "\n",
    "The following is used to explain what an asset that mimics the market looks like."
   ]
  },
  {
   "cell_type": "code",
   "execution_count": 65,
   "metadata": {},
   "outputs": [],
   "source": [
    "# creating artifical noice using the random library \n",
    "noise = np.random.normal(0,0.001,len(spy_etf['Daily Return'].iloc[1:]))"
   ]
  },
  {
   "cell_type": "code",
   "execution_count": 66,
   "metadata": {},
   "outputs": [
    {
     "data": {
      "text/plain": [
       "array([-0.00058649, -0.00060423, -0.00060776, ..., -0.00034494,\n",
       "        0.00027888,  0.00069373])"
      ]
     },
     "execution_count": 66,
     "metadata": {},
     "output_type": "execute_result"
    }
   ],
   "source": [
    "# preview of noice array\n",
    "noise"
   ]
  },
  {
   "cell_type": "code",
   "execution_count": 67,
   "metadata": {},
   "outputs": [],
   "source": [
    "# creation of fake stock being the spy_etf + artifical noice\n",
    "fake_stock = spy_etf['Daily Return'].iloc[1:] + noise"
   ]
  },
  {
   "cell_type": "code",
   "execution_count": 68,
   "metadata": {},
   "outputs": [],
   "source": [
    "# linear regression using Scikit with the fake stock\n",
    "beta,alpha,r_value,p_value,std_err = stats.linregress(spy_etf['Daily Return'].iloc[1:]+noise,spy_etf['Daily Return'].iloc[1:])"
   ]
  },
  {
   "cell_type": "code",
   "execution_count": 69,
   "metadata": {},
   "outputs": [
    {
     "data": {
      "text/plain": [
       "0.9905911689843184"
      ]
     },
     "execution_count": 69,
     "metadata": {},
     "output_type": "execute_result"
    }
   ],
   "source": [
    "# relationship with the market is near absolute\n",
    "beta"
   ]
  },
  {
   "cell_type": "code",
   "execution_count": 70,
   "metadata": {},
   "outputs": [
    {
     "data": {
      "text/plain": [
       "-2.0260772138532555e-05"
      ]
     },
     "execution_count": 70,
     "metadata": {},
     "output_type": "execute_result"
    }
   ],
   "source": [
    "# fake_stocks ability to beat the market is relatively low\n",
    "alpha"
   ]
  },
  {
   "cell_type": "code",
   "execution_count": 71,
   "metadata": {},
   "outputs": [
    {
     "data": {
      "text/plain": [
       "0.9943576374403091"
      ]
     },
     "execution_count": 71,
     "metadata": {},
     "output_type": "execute_result"
    }
   ],
   "source": [
    "# correlation is near 1, due to the similarity between the returns\n",
    "r_value"
   ]
  },
  {
   "cell_type": "code",
   "execution_count": 56,
   "metadata": {},
   "outputs": [
    {
     "data": {
      "text/plain": [
       "''"
      ]
     },
     "execution_count": 56,
     "metadata": {},
     "output_type": "execute_result"
    },
    {
     "data": {
      "image/png": "[encoded data removed]",
      "text/plain": [
       "<Figure size 432x288 with 1 Axes>"
      ]
     },
     "metadata": {
      "needs_background": "light"
     },
     "output_type": "display_data"
    }
   ],
   "source": [
    "# maps fake stock returns again spy_etf\n",
    "plt.scatter(fake_stock ,spy_etf['Daily Return'].iloc[1:] ,alpha=0.3)\n",
    "plt.xlabel('Fake stock returns')\n",
    "plt.ylabel('Market returns');"
   ]
  },
  {
   "cell_type": "markdown",
   "metadata": {},
   "source": [
    "#### Interpretation\n",
    "\n",
    "When both stocks have similar returns, the relationship between both stocks are linear as shown above."
   ]
  },
  {
   "cell_type": "code",
   "execution_count": null,
   "metadata": {},
   "outputs": [],
   "source": []
  }
 ],
 "metadata": {
  "kernelspec": {
   "display_name": "Python 3",
   "language": "python",
   "name": "python3"
  },
  "language_info": {
   "codemirror_mode": {
    "name": "ipython",
    "version": 3
   },
   "file_extension": ".py",
   "mimetype": "text/x-python",
   "name": "python",
   "nbconvert_exporter": "python",
   "pygments_lexer": "ipython3",
   "version": "3.7.6"
  }
 },
 "nbformat": 4,
 "nbformat_minor": 2
}
